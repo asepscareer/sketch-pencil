{
 "cells": [
  {
   "cell_type": "code",
   "execution_count": 2,
   "metadata": {
    "colab": {},
    "colab_type": "code",
    "id": "mae6_72D92YK"
   },
   "outputs": [],
   "source": [
    "import cv2\n",
    "import numpy as np\n",
    "import imageio\n",
    "import scipy.ndimage"
   ]
  },
  {
   "cell_type": "code",
   "execution_count": 3,
   "metadata": {
    "colab": {},
    "colab_type": "code",
    "id": "cIiUJxLzL34W"
   },
   "outputs": [],
   "source": [
    "img = \"CR7.jpg\""
   ]
  },
  {
   "cell_type": "code",
   "execution_count": 4,
   "metadata": {
    "colab": {
     "base_uri": "https://localhost:8080/",
     "height": 34
    },
    "colab_type": "code",
    "id": "iIhxDN6h-oi6",
    "outputId": "15a5cf0b-cc4b-46ea-c043-5fad2050aabc"
   },
   "outputs": [
    {
     "data": {
      "text/plain": [
       "True"
      ]
     },
     "execution_count": 4,
     "metadata": {},
     "output_type": "execute_result"
    }
   ],
   "source": [
    "def grayscale(rgb):\n",
    "  return np.dot(rgb[...,:3],[0.299,0.587,0.114])\n",
    "def dodge(front,back):\n",
    "  result = front*255/(255-back)\n",
    "  result[result>255] = 255\n",
    "  result[back>255] = 255\n",
    "  return result.astype('uint8')\n",
    "\n",
    "s = imageio.imread(img)\n",
    "g = grayscale(s)\n",
    "i = 255-g\n",
    "\n",
    "\n",
    "b=scipy.ndimage.filters.gaussian_filter(i, sigma=10)\n",
    "r=dodge(b,g)\n",
    "cv2.imwrite('hasil.png',r)"
   ]
  }
 ],
 "metadata": {
  "colab": {
   "name": "Pencil Sketch.ipynb",
   "provenance": []
  },
  "kernelspec": {
   "display_name": "Python 3",
   "language": "python",
   "name": "python3"
  },
  "language_info": {
   "codemirror_mode": {
    "name": "ipython",
    "version": 3
   },
   "file_extension": ".py",
   "mimetype": "text/x-python",
   "name": "python",
   "nbconvert_exporter": "python",
   "pygments_lexer": "ipython3",
   "version": "3.8.3"
  },
  "latex_envs": {
   "LaTeX_envs_menu_present": true,
   "autoclose": true,
   "autocomplete": true,
   "bibliofile": "biblio.bib",
   "cite_by": "apalike",
   "current_citInitial": 1,
   "eqLabelWithNumbers": true,
   "eqNumInitial": 1,
   "hotkeys": {
    "equation": "Ctrl-E",
    "itemize": "Ctrl-I"
   },
   "labels_anchors": false,
   "latex_user_defs": false,
   "report_style_numbering": false,
   "user_envs_cfg": false
  }
 },
 "nbformat": 4,
 "nbformat_minor": 1
}
